{
 "cells": [
  {
   "cell_type": "markdown",
   "id": "61c8792f-2e3c-47de-b03f-3a73ae3ddd94",
   "metadata": {},
   "source": [
    "# Sets"
   ]
  },
  {
   "cell_type": "code",
   "execution_count": 1,
   "id": "0f610b07-7353-43cf-a06b-00aea69849e3",
   "metadata": {},
   "outputs": [
    {
     "name": "stdout",
     "output_type": "stream",
     "text": [
      "{'MG Hector', 'Toyota', 'Skoda'}\n"
     ]
    }
   ],
   "source": [
    "cars_set = {\"Toyota\", \"MG Hector\", \"Skoda\"}\n",
    "print(cars_set)"
   ]
  },
  {
   "cell_type": "code",
   "execution_count": 2,
   "id": "fcc68f9d-6597-46d1-adc1-363aaf802379",
   "metadata": {},
   "outputs": [
    {
     "name": "stdout",
     "output_type": "stream",
     "text": [
      "{2, 4, 6, 8, 10}\n"
     ]
    }
   ],
   "source": [
    "evennumbers_set = set([2, 4, 6, 8, 10]) \n",
    "print(evennumbers_set)"
   ]
  },
  {
   "cell_type": "code",
   "execution_count": 4,
   "id": "69eefc6c-9c84-452b-b17e-9f1e8eb39ed4",
   "metadata": {},
   "outputs": [
    {
     "name": "stdout",
     "output_type": "stream",
     "text": [
      "{'MG Hector', 'Ferrari', 'Toyota', 'Skoda'}\n"
     ]
    }
   ],
   "source": [
    "cars_set.add(\"Ferrari\")\n",
    "print(cars_set) "
   ]
  },
  {
   "cell_type": "code",
   "execution_count": 5,
   "id": "f43100a8-6b70-4f5a-b3af-1e6c90639363",
   "metadata": {},
   "outputs": [
    {
     "name": "stdout",
     "output_type": "stream",
     "text": [
      "{'MG Hector', 'Ferrari', 'Toyota', 'Skoda'}\n"
     ]
    }
   ],
   "source": [
    "cars_set.discard(\"Maruti\")  \n",
    "print(cars_set)"
   ]
  },
  {
   "cell_type": "code",
   "execution_count": 9,
   "id": "997c0321-ba89-4f37-bdab-ae3934303543",
   "metadata": {},
   "outputs": [
    {
     "name": "stdout",
     "output_type": "stream",
     "text": [
      "{'Infotech', 'Infosys', 'TCS', 'MG Hector', 'Ferrari', 'Toyota', 'Skoda'}\n"
     ]
    }
   ],
   "source": [
    "ITCompanys = {\"Infosys\", \"TCS\", \"Infotech\"}\n",
    "mixed_set = cars_set | ITCompanys\n",
    "print(mixed_set) "
   ]
  }
 ],
 "metadata": {
  "kernelspec": {
   "display_name": "Python 3 (ipykernel)",
   "language": "python",
   "name": "python3"
  },
  "language_info": {
   "codemirror_mode": {
    "name": "ipython",
    "version": 3
   },
   "file_extension": ".py",
   "mimetype": "text/x-python",
   "name": "python",
   "nbconvert_exporter": "python",
   "pygments_lexer": "ipython3",
   "version": "3.11.7"
  }
 },
 "nbformat": 4,
 "nbformat_minor": 5
}
